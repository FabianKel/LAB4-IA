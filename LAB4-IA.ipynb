{
 "cells": [
  {
   "cell_type": "markdown",
   "metadata": {},
   "source": [
    "# Laboratorio 4\n",
    "\n",
    "- [Mónica Salvatierra - 22249](https://github.com/alee2602)\n",
    "- [Paula Barillas - 22764](https://github.com/paulabaal12)\n",
    "- [Derek Arreaga - 22537](https://github.com/FabianKel)"
   ]
  },
  {
   "cell_type": "markdown",
   "metadata": {},
   "source": [
    "#####  LINK DE REPOSITORIO\n",
    "https://github.com/FabianKel/LAB4-IA"
   ]
  },
  {
   "cell_type": "markdown",
   "metadata": {},
   "source": [
    "## Task 1 - Preguntas Teóricas"
   ]
  },
  {
   "cell_type": "markdown",
   "metadata": {},
   "source": [
    "1. Explique con sus propias palabras, qué son los grafos computaciones y cuál es su importancia para el\n",
    "cálculo de gradientes en aplicaciones como backpropagation"
   ]
  },
  {
   "cell_type": "markdown",
   "metadata": {},
   "source": [
    "Gráfico acíclico dirigido, para representar la expresión matemática final y cada nodo representa subexpresiones intermedias.\n",
    "\n",
    "* Ayuda a simplificar el proceso\n",
    "* Ayuda a obtener más información de la naturaleza y estructura modular de los cálculos de gradientes"
   ]
  },
  {
   "cell_type": "markdown",
   "metadata": {},
   "source": [
    "2. Detalle cuales son los componentes y pasos que conforman una red neuronal. Con esto en mente, ¿cómo\n",
    "mejoraría el perceptrón que hizo en el laboratorio pasado?"
   ]
  },
  {
   "cell_type": "markdown",
   "metadata": {},
   "source": [
    "**Componentes:**\n",
    "* a"
   ]
  },
  {
   "cell_type": "markdown",
   "metadata": {},
   "source": [
    "3. Investigue y explique cómo se selecciona el valor K usando el método de la silueta para el algoritmo de K-\n",
    "Means. Explique las fórmulas (ecuaciones) que lo componen así como las asumpciones, si hay.\n",
    "\n",
    "El método de la silueta ayuda a determinar el número óptimo de clusters (K) en K-means evaluando la calidad de la agrupación. Se basa en dos medidas:\n",
    "\n",
    "1. **Cohesión (a)**: Representando el promedio de la distancia entre un punto y todos los demás puntos dentro de su mismo cluster\n",
    "2. **Separación (b)**: Representa el promedio de la distancia entre un punto y todos los puntos del cluster más cercano\n",
    "\n",
    "La fórmula para el coeficiente de silueta es:\n",
    "  $$ s(i) = \\frac{b(i) - a(i)}{max(a(i), b(i))}   $$ \n",
    "\n",
    "Donde:\n",
    "- s(i) es el coeficiente de silueta para el punto i\n",
    "- a(i) es la cohesión\n",
    "- b(i) es la separación\n",
    "\n",
    "Si el coeficiente varía entre -1 y 1:\n",
    "- Valores cercanos a 1 indican buena agrupación\n",
    "- Valores cercanos a 0 indican solapamiento\n",
    "- Valores negativos indican mala asignación\n",
    "\n",
    "Asumpciones:\n",
    "- Los clusters están bien separados\n",
    "- Los datos tienen una estructura de agrupamiento natural\n",
    "- La distancia es una medida significativa de similitud"
   ]
  },
  {
   "cell_type": "markdown",
   "metadata": {},
   "source": [
    "4. Investigue sobre Principal Component Analysis (PCA) y responda respecto a algoritmos como K-Means:\n",
    "a. ¿Cómo podría ayudarle a mejorar la calidad de sus clusters cuando se usa K-Means?\n",
    "\n",
    "- Reduciendo la dimensionalidad de los datos conservando la información más relevante/importante\n",
    "\n",
    "- Mejora la visualización al proyectar los datos en 2 o 3 dimensiones principales, facilitando la interpretación de los clusters\n"
   ]
  },
  {
   "cell_type": "markdown",
   "metadata": {},
   "source": [
    "#### Referencias:\n",
    "- Improve, A. 27 F. (2018, julio 7). Principal component analysis(PCA). GeeksforGeeks. https://www.geeksforgeeks.org/principal-component-analysis-pca/\n",
    "\n",
    "- Jaadi, Z. (2021, abril 1). Principal Component Analysis (PCA): A step-by-step explanation. Built In. https://builtin.com/data-science/step-step-explanation-principal-component-analysis\n",
    "\n",
    "- Ramirez, J. (2018, diciembre 25). K-means: Elbow method and silhouette - Jonathan Ramirez. Medium. https://medium.com/@jonathanrmzg/k-means-elbow-method-and-silhouette-e565d7ab87aa"
   ]
  },
  {
   "cell_type": "markdown",
   "metadata": {},
   "source": [
    "## Task 2 - Ejercicios Prácticos"
   ]
  },
  {
   "cell_type": "markdown",
   "metadata": {},
   "source": [
    "### Task 2.1 - K-Means y Segmentación de Clientes de Banco"
   ]
  },
  {
   "cell_type": "markdown",
   "metadata": {},
   "source": [
    "### **Importar las librerías a utilizar**"
   ]
  },
  {
   "cell_type": "code",
   "execution_count": 1,
   "metadata": {},
   "outputs": [],
   "source": [
    "import pandas as pd\n",
    "import numpy as np\n",
    "import matplotlib.pyplot as plt\n",
    "from sklearn.discriminant_analysis import StandardScaler\n",
    "%matplotlib inline\n"
   ]
  },
  {
   "cell_type": "markdown",
   "metadata": {},
   "source": [
    "### **Leer archivo de datos**"
   ]
  },
  {
   "cell_type": "code",
   "execution_count": 2,
   "metadata": {},
   "outputs": [],
   "source": [
    "data = pd.read_csv(\"bank_transactions.csv\")"
   ]
  },
  {
   "cell_type": "markdown",
   "metadata": {},
   "source": [
    "### **Obtener las primeros 15 datos**"
   ]
  },
  {
   "cell_type": "code",
   "execution_count": 3,
   "metadata": {},
   "outputs": [
    {
     "data": {
      "text/html": [
       "<div>\n",
       "<style scoped>\n",
       "    .dataframe tbody tr th:only-of-type {\n",
       "        vertical-align: middle;\n",
       "    }\n",
       "\n",
       "    .dataframe tbody tr th {\n",
       "        vertical-align: top;\n",
       "    }\n",
       "\n",
       "    .dataframe thead th {\n",
       "        text-align: right;\n",
       "    }\n",
       "</style>\n",
       "<table border=\"1\" class=\"dataframe\">\n",
       "  <thead>\n",
       "    <tr style=\"text-align: right;\">\n",
       "      <th></th>\n",
       "      <th>TransactionID</th>\n",
       "      <th>CustomerID</th>\n",
       "      <th>CustomerDOB</th>\n",
       "      <th>CustGender</th>\n",
       "      <th>CustLocation</th>\n",
       "      <th>CustAccountBalance</th>\n",
       "      <th>TransactionDate</th>\n",
       "      <th>TransactionTime</th>\n",
       "      <th>TransactionAmount (INR)</th>\n",
       "    </tr>\n",
       "  </thead>\n",
       "  <tbody>\n",
       "    <tr>\n",
       "      <th>0</th>\n",
       "      <td>T1</td>\n",
       "      <td>C5841053</td>\n",
       "      <td>10/1/94</td>\n",
       "      <td>F</td>\n",
       "      <td>JAMSHEDPUR</td>\n",
       "      <td>17819.05</td>\n",
       "      <td>2/8/16</td>\n",
       "      <td>143207</td>\n",
       "      <td>25.00</td>\n",
       "    </tr>\n",
       "    <tr>\n",
       "      <th>1</th>\n",
       "      <td>T2</td>\n",
       "      <td>C2142763</td>\n",
       "      <td>4/4/57</td>\n",
       "      <td>M</td>\n",
       "      <td>JHAJJAR</td>\n",
       "      <td>2270.69</td>\n",
       "      <td>2/8/16</td>\n",
       "      <td>141858</td>\n",
       "      <td>27999.00</td>\n",
       "    </tr>\n",
       "    <tr>\n",
       "      <th>2</th>\n",
       "      <td>T3</td>\n",
       "      <td>C4417068</td>\n",
       "      <td>26/11/96</td>\n",
       "      <td>F</td>\n",
       "      <td>MUMBAI</td>\n",
       "      <td>17874.44</td>\n",
       "      <td>2/8/16</td>\n",
       "      <td>142712</td>\n",
       "      <td>459.00</td>\n",
       "    </tr>\n",
       "    <tr>\n",
       "      <th>3</th>\n",
       "      <td>T4</td>\n",
       "      <td>C5342380</td>\n",
       "      <td>14/9/73</td>\n",
       "      <td>F</td>\n",
       "      <td>MUMBAI</td>\n",
       "      <td>866503.21</td>\n",
       "      <td>2/8/16</td>\n",
       "      <td>142714</td>\n",
       "      <td>2060.00</td>\n",
       "    </tr>\n",
       "    <tr>\n",
       "      <th>4</th>\n",
       "      <td>T5</td>\n",
       "      <td>C9031234</td>\n",
       "      <td>24/3/88</td>\n",
       "      <td>F</td>\n",
       "      <td>NAVI MUMBAI</td>\n",
       "      <td>6714.43</td>\n",
       "      <td>2/8/16</td>\n",
       "      <td>181156</td>\n",
       "      <td>1762.50</td>\n",
       "    </tr>\n",
       "    <tr>\n",
       "      <th>5</th>\n",
       "      <td>T6</td>\n",
       "      <td>C1536588</td>\n",
       "      <td>8/10/72</td>\n",
       "      <td>F</td>\n",
       "      <td>ITANAGAR</td>\n",
       "      <td>53609.20</td>\n",
       "      <td>2/8/16</td>\n",
       "      <td>173940</td>\n",
       "      <td>676.00</td>\n",
       "    </tr>\n",
       "    <tr>\n",
       "      <th>6</th>\n",
       "      <td>T7</td>\n",
       "      <td>C7126560</td>\n",
       "      <td>26/1/92</td>\n",
       "      <td>F</td>\n",
       "      <td>MUMBAI</td>\n",
       "      <td>973.46</td>\n",
       "      <td>2/8/16</td>\n",
       "      <td>173806</td>\n",
       "      <td>566.00</td>\n",
       "    </tr>\n",
       "    <tr>\n",
       "      <th>7</th>\n",
       "      <td>T8</td>\n",
       "      <td>C1220223</td>\n",
       "      <td>27/1/82</td>\n",
       "      <td>M</td>\n",
       "      <td>MUMBAI</td>\n",
       "      <td>95075.54</td>\n",
       "      <td>2/8/16</td>\n",
       "      <td>170537</td>\n",
       "      <td>148.00</td>\n",
       "    </tr>\n",
       "    <tr>\n",
       "      <th>8</th>\n",
       "      <td>T9</td>\n",
       "      <td>C8536061</td>\n",
       "      <td>19/4/88</td>\n",
       "      <td>F</td>\n",
       "      <td>GURGAON</td>\n",
       "      <td>14906.96</td>\n",
       "      <td>2/8/16</td>\n",
       "      <td>192825</td>\n",
       "      <td>833.00</td>\n",
       "    </tr>\n",
       "    <tr>\n",
       "      <th>9</th>\n",
       "      <td>T10</td>\n",
       "      <td>C6638934</td>\n",
       "      <td>22/6/84</td>\n",
       "      <td>M</td>\n",
       "      <td>MUMBAI</td>\n",
       "      <td>4279.22</td>\n",
       "      <td>2/8/16</td>\n",
       "      <td>192446</td>\n",
       "      <td>289.11</td>\n",
       "    </tr>\n",
       "    <tr>\n",
       "      <th>10</th>\n",
       "      <td>T11</td>\n",
       "      <td>C5430833</td>\n",
       "      <td>22/7/82</td>\n",
       "      <td>M</td>\n",
       "      <td>MOHALI</td>\n",
       "      <td>48429.49</td>\n",
       "      <td>2/8/16</td>\n",
       "      <td>204133</td>\n",
       "      <td>259.00</td>\n",
       "    </tr>\n",
       "    <tr>\n",
       "      <th>11</th>\n",
       "      <td>T12</td>\n",
       "      <td>C6939838</td>\n",
       "      <td>7/7/88</td>\n",
       "      <td>M</td>\n",
       "      <td>GUNTUR</td>\n",
       "      <td>14613.46</td>\n",
       "      <td>2/8/16</td>\n",
       "      <td>205108</td>\n",
       "      <td>202.00</td>\n",
       "    </tr>\n",
       "    <tr>\n",
       "      <th>12</th>\n",
       "      <td>T13</td>\n",
       "      <td>C6339347</td>\n",
       "      <td>13/6/78</td>\n",
       "      <td>M</td>\n",
       "      <td>AHMEDABAD</td>\n",
       "      <td>32274.78</td>\n",
       "      <td>2/8/16</td>\n",
       "      <td>203834</td>\n",
       "      <td>12300.00</td>\n",
       "    </tr>\n",
       "    <tr>\n",
       "      <th>13</th>\n",
       "      <td>T14</td>\n",
       "      <td>C8327851</td>\n",
       "      <td>5/1/92</td>\n",
       "      <td>F</td>\n",
       "      <td>THANE</td>\n",
       "      <td>59950.44</td>\n",
       "      <td>1/8/16</td>\n",
       "      <td>84706</td>\n",
       "      <td>50.00</td>\n",
       "    </tr>\n",
       "    <tr>\n",
       "      <th>14</th>\n",
       "      <td>T15</td>\n",
       "      <td>C7917151</td>\n",
       "      <td>24/3/78</td>\n",
       "      <td>M</td>\n",
       "      <td>PUNE</td>\n",
       "      <td>10100.84</td>\n",
       "      <td>1/8/16</td>\n",
       "      <td>82253</td>\n",
       "      <td>338.00</td>\n",
       "    </tr>\n",
       "  </tbody>\n",
       "</table>\n",
       "</div>"
      ],
      "text/plain": [
       "   TransactionID CustomerID CustomerDOB CustGender CustLocation  \\\n",
       "0             T1   C5841053     10/1/94          F   JAMSHEDPUR   \n",
       "1             T2   C2142763      4/4/57          M      JHAJJAR   \n",
       "2             T3   C4417068    26/11/96          F       MUMBAI   \n",
       "3             T4   C5342380     14/9/73          F       MUMBAI   \n",
       "4             T5   C9031234     24/3/88          F  NAVI MUMBAI   \n",
       "5             T6   C1536588     8/10/72          F     ITANAGAR   \n",
       "6             T7   C7126560     26/1/92          F       MUMBAI   \n",
       "7             T8   C1220223     27/1/82          M       MUMBAI   \n",
       "8             T9   C8536061     19/4/88          F      GURGAON   \n",
       "9            T10   C6638934     22/6/84          M       MUMBAI   \n",
       "10           T11   C5430833     22/7/82          M       MOHALI   \n",
       "11           T12   C6939838      7/7/88          M       GUNTUR   \n",
       "12           T13   C6339347     13/6/78          M    AHMEDABAD   \n",
       "13           T14   C8327851      5/1/92          F        THANE   \n",
       "14           T15   C7917151     24/3/78          M         PUNE   \n",
       "\n",
       "    CustAccountBalance TransactionDate  TransactionTime  \\\n",
       "0             17819.05          2/8/16           143207   \n",
       "1              2270.69          2/8/16           141858   \n",
       "2             17874.44          2/8/16           142712   \n",
       "3            866503.21          2/8/16           142714   \n",
       "4              6714.43          2/8/16           181156   \n",
       "5             53609.20          2/8/16           173940   \n",
       "6               973.46          2/8/16           173806   \n",
       "7             95075.54          2/8/16           170537   \n",
       "8             14906.96          2/8/16           192825   \n",
       "9              4279.22          2/8/16           192446   \n",
       "10            48429.49          2/8/16           204133   \n",
       "11            14613.46          2/8/16           205108   \n",
       "12            32274.78          2/8/16           203834   \n",
       "13            59950.44          1/8/16            84706   \n",
       "14            10100.84          1/8/16            82253   \n",
       "\n",
       "    TransactionAmount (INR)  \n",
       "0                     25.00  \n",
       "1                  27999.00  \n",
       "2                    459.00  \n",
       "3                   2060.00  \n",
       "4                   1762.50  \n",
       "5                    676.00  \n",
       "6                    566.00  \n",
       "7                    148.00  \n",
       "8                    833.00  \n",
       "9                    289.11  \n",
       "10                   259.00  \n",
       "11                   202.00  \n",
       "12                 12300.00  \n",
       "13                    50.00  \n",
       "14                   338.00  "
      ]
     },
     "execution_count": 3,
     "metadata": {},
     "output_type": "execute_result"
    }
   ],
   "source": [
    "data.head(15)"
   ]
  },
  {
   "cell_type": "code",
   "execution_count": 4,
   "metadata": {},
   "outputs": [
    {
     "name": "stdout",
     "output_type": "stream",
     "text": [
      "<class 'pandas.core.frame.DataFrame'>\n",
      "RangeIndex: 1048567 entries, 0 to 1048566\n",
      "Data columns (total 9 columns):\n",
      " #   Column                   Non-Null Count    Dtype  \n",
      "---  ------                   --------------    -----  \n",
      " 0   TransactionID            1048567 non-null  object \n",
      " 1   CustomerID               1048567 non-null  object \n",
      " 2   CustomerDOB              1045170 non-null  object \n",
      " 3   CustGender               1047467 non-null  object \n",
      " 4   CustLocation             1048416 non-null  object \n",
      " 5   CustAccountBalance       1046198 non-null  float64\n",
      " 6   TransactionDate          1048567 non-null  object \n",
      " 7   TransactionTime          1048567 non-null  int64  \n",
      " 8   TransactionAmount (INR)  1048567 non-null  float64\n",
      "dtypes: float64(2), int64(1), object(6)\n",
      "memory usage: 72.0+ MB\n"
     ]
    }
   ],
   "source": [
    "data.info()"
   ]
  },
  {
   "cell_type": "markdown",
   "metadata": {},
   "source": [
    "### **Exploración de datos**"
   ]
  },
  {
   "cell_type": "code",
   "execution_count": 5,
   "metadata": {},
   "outputs": [
    {
     "data": {
      "text/html": [
       "<div>\n",
       "<style scoped>\n",
       "    .dataframe tbody tr th:only-of-type {\n",
       "        vertical-align: middle;\n",
       "    }\n",
       "\n",
       "    .dataframe tbody tr th {\n",
       "        vertical-align: top;\n",
       "    }\n",
       "\n",
       "    .dataframe thead th {\n",
       "        text-align: right;\n",
       "    }\n",
       "</style>\n",
       "<table border=\"1\" class=\"dataframe\">\n",
       "  <thead>\n",
       "    <tr style=\"text-align: right;\">\n",
       "      <th></th>\n",
       "      <th>CustAccountBalance</th>\n",
       "      <th>TransactionTime</th>\n",
       "      <th>TransactionAmount (INR)</th>\n",
       "    </tr>\n",
       "  </thead>\n",
       "  <tbody>\n",
       "    <tr>\n",
       "      <th>count</th>\n",
       "      <td>1.046198e+06</td>\n",
       "      <td>1.048567e+06</td>\n",
       "      <td>1.048567e+06</td>\n",
       "    </tr>\n",
       "    <tr>\n",
       "      <th>mean</th>\n",
       "      <td>1.154035e+05</td>\n",
       "      <td>1.570875e+05</td>\n",
       "      <td>1.574335e+03</td>\n",
       "    </tr>\n",
       "    <tr>\n",
       "      <th>std</th>\n",
       "      <td>8.464854e+05</td>\n",
       "      <td>5.126185e+04</td>\n",
       "      <td>6.574743e+03</td>\n",
       "    </tr>\n",
       "    <tr>\n",
       "      <th>min</th>\n",
       "      <td>0.000000e+00</td>\n",
       "      <td>0.000000e+00</td>\n",
       "      <td>0.000000e+00</td>\n",
       "    </tr>\n",
       "    <tr>\n",
       "      <th>25%</th>\n",
       "      <td>4.721760e+03</td>\n",
       "      <td>1.240300e+05</td>\n",
       "      <td>1.610000e+02</td>\n",
       "    </tr>\n",
       "    <tr>\n",
       "      <th>50%</th>\n",
       "      <td>1.679218e+04</td>\n",
       "      <td>1.642260e+05</td>\n",
       "      <td>4.590300e+02</td>\n",
       "    </tr>\n",
       "    <tr>\n",
       "      <th>75%</th>\n",
       "      <td>5.765736e+04</td>\n",
       "      <td>2.000100e+05</td>\n",
       "      <td>1.200000e+03</td>\n",
       "    </tr>\n",
       "    <tr>\n",
       "      <th>max</th>\n",
       "      <td>1.150355e+08</td>\n",
       "      <td>2.359590e+05</td>\n",
       "      <td>1.560035e+06</td>\n",
       "    </tr>\n",
       "  </tbody>\n",
       "</table>\n",
       "</div>"
      ],
      "text/plain": [
       "       CustAccountBalance  TransactionTime  TransactionAmount (INR)\n",
       "count        1.046198e+06     1.048567e+06             1.048567e+06\n",
       "mean         1.154035e+05     1.570875e+05             1.574335e+03\n",
       "std          8.464854e+05     5.126185e+04             6.574743e+03\n",
       "min          0.000000e+00     0.000000e+00             0.000000e+00\n",
       "25%          4.721760e+03     1.240300e+05             1.610000e+02\n",
       "50%          1.679218e+04     1.642260e+05             4.590300e+02\n",
       "75%          5.765736e+04     2.000100e+05             1.200000e+03\n",
       "max          1.150355e+08     2.359590e+05             1.560035e+06"
      ]
     },
     "execution_count": 5,
     "metadata": {},
     "output_type": "execute_result"
    }
   ],
   "source": [
    "data.describe()"
   ]
  },
  {
   "cell_type": "markdown",
   "metadata": {},
   "source": [
    "### **Seleccionar solo las variables relevantes**"
   ]
  },
  {
   "cell_type": "code",
   "execution_count": 6,
   "metadata": {},
   "outputs": [],
   "source": [
    "selected_features = ['CustomerDOB', 'CustGender', 'CustAccountBalance', 'TransactionAmount (INR)']\n",
    "features = data[selected_features]"
   ]
  },
  {
   "cell_type": "markdown",
   "metadata": {},
   "source": [
    "### **Revisar si hay valores faltantes**"
   ]
  },
  {
   "cell_type": "code",
   "execution_count": 7,
   "metadata": {},
   "outputs": [
    {
     "data": {
      "text/plain": [
       "CustomerDOB                3397\n",
       "CustGender                 1100\n",
       "CustAccountBalance         2369\n",
       "TransactionAmount (INR)       0\n",
       "dtype: int64"
      ]
     },
     "execution_count": 7,
     "metadata": {},
     "output_type": "execute_result"
    }
   ],
   "source": [
    "features.isnull().sum()"
   ]
  },
  {
   "cell_type": "markdown",
   "metadata": {},
   "source": [
    "### **Eliminar valores faltantes**"
   ]
  },
  {
   "cell_type": "code",
   "execution_count": 8,
   "metadata": {},
   "outputs": [],
   "source": [
    "features = features.dropna()"
   ]
  },
  {
   "cell_type": "markdown",
   "metadata": {},
   "source": [
    "### **Revisar la cantidad de registros en las features seleccionadas**"
   ]
  },
  {
   "cell_type": "code",
   "execution_count": 9,
   "metadata": {},
   "outputs": [
    {
     "data": {
      "text/plain": [
       "CustomerDOB                1041765\n",
       "CustGender                 1041765\n",
       "CustAccountBalance         1041765\n",
       "TransactionAmount (INR)    1041765\n",
       "dtype: int64"
      ]
     },
     "execution_count": 9,
     "metadata": {},
     "output_type": "execute_result"
    }
   ],
   "source": [
    "features.count()"
   ]
  },
  {
   "cell_type": "code",
   "execution_count": 10,
   "metadata": {},
   "outputs": [
    {
     "data": {
      "text/html": [
       "<div>\n",
       "<style scoped>\n",
       "    .dataframe tbody tr th:only-of-type {\n",
       "        vertical-align: middle;\n",
       "    }\n",
       "\n",
       "    .dataframe tbody tr th {\n",
       "        vertical-align: top;\n",
       "    }\n",
       "\n",
       "    .dataframe thead th {\n",
       "        text-align: right;\n",
       "    }\n",
       "</style>\n",
       "<table border=\"1\" class=\"dataframe\">\n",
       "  <thead>\n",
       "    <tr style=\"text-align: right;\">\n",
       "      <th></th>\n",
       "      <th>CustomerDOB</th>\n",
       "      <th>CustGender</th>\n",
       "      <th>CustAccountBalance</th>\n",
       "      <th>TransactionAmount (INR)</th>\n",
       "    </tr>\n",
       "  </thead>\n",
       "  <tbody>\n",
       "    <tr>\n",
       "      <th>0</th>\n",
       "      <td>10/1/94</td>\n",
       "      <td>F</td>\n",
       "      <td>17819.05</td>\n",
       "      <td>25.0</td>\n",
       "    </tr>\n",
       "    <tr>\n",
       "      <th>1</th>\n",
       "      <td>4/4/57</td>\n",
       "      <td>M</td>\n",
       "      <td>2270.69</td>\n",
       "      <td>27999.0</td>\n",
       "    </tr>\n",
       "    <tr>\n",
       "      <th>2</th>\n",
       "      <td>26/11/96</td>\n",
       "      <td>F</td>\n",
       "      <td>17874.44</td>\n",
       "      <td>459.0</td>\n",
       "    </tr>\n",
       "    <tr>\n",
       "      <th>3</th>\n",
       "      <td>14/9/73</td>\n",
       "      <td>F</td>\n",
       "      <td>866503.21</td>\n",
       "      <td>2060.0</td>\n",
       "    </tr>\n",
       "    <tr>\n",
       "      <th>4</th>\n",
       "      <td>24/3/88</td>\n",
       "      <td>F</td>\n",
       "      <td>6714.43</td>\n",
       "      <td>1762.5</td>\n",
       "    </tr>\n",
       "  </tbody>\n",
       "</table>\n",
       "</div>"
      ],
      "text/plain": [
       "  CustomerDOB CustGender  CustAccountBalance  TransactionAmount (INR)\n",
       "0     10/1/94          F            17819.05                     25.0\n",
       "1      4/4/57          M             2270.69                  27999.0\n",
       "2    26/11/96          F            17874.44                    459.0\n",
       "3     14/9/73          F           866503.21                   2060.0\n",
       "4     24/3/88          F             6714.43                   1762.5"
      ]
     },
     "execution_count": 10,
     "metadata": {},
     "output_type": "execute_result"
    }
   ],
   "source": [
    "features.head()"
   ]
  },
  {
   "cell_type": "markdown",
   "metadata": {},
   "source": [
    "## **Encoding y transformación de variables**"
   ]
  },
  {
   "cell_type": "markdown",
   "metadata": {},
   "source": [
    "### **Convertir CustomerDOB a Age**"
   ]
  },
  {
   "cell_type": "code",
   "execution_count": 11,
   "metadata": {},
   "outputs": [],
   "source": [
    "from sklearn.preprocessing import LabelEncoder, StandardScaler\n",
    "from datetime import datetime\n",
    "\n",
    "current_year = datetime.now().year\n",
    "features['CustomerDOB'] = pd.to_datetime(features['CustomerDOB'], format='%d/%m/%y', errors='coerce')\n",
    "features['Age'] = current_year - features['CustomerDOB'].dt.year\n",
    "features.loc[features['Age'] < 0, 'Age'] += 100"
   ]
  },
  {
   "cell_type": "code",
   "execution_count": 12,
   "metadata": {},
   "outputs": [],
   "source": [
    "features.drop(columns=['CustomerDOB'], inplace=True, errors='ignore')"
   ]
  },
  {
   "cell_type": "code",
   "execution_count": 13,
   "metadata": {},
   "outputs": [],
   "source": [
    "\n",
    "encoder = LabelEncoder()\n",
    "features['CustGender'] = features['CustGender'].map({'M': 0, 'F': 1})  "
   ]
  },
  {
   "cell_type": "code",
   "execution_count": 14,
   "metadata": {},
   "outputs": [
    {
     "data": {
      "text/html": [
       "<div>\n",
       "<style scoped>\n",
       "    .dataframe tbody tr th:only-of-type {\n",
       "        vertical-align: middle;\n",
       "    }\n",
       "\n",
       "    .dataframe tbody tr th {\n",
       "        vertical-align: top;\n",
       "    }\n",
       "\n",
       "    .dataframe thead th {\n",
       "        text-align: right;\n",
       "    }\n",
       "</style>\n",
       "<table border=\"1\" class=\"dataframe\">\n",
       "  <thead>\n",
       "    <tr style=\"text-align: right;\">\n",
       "      <th></th>\n",
       "      <th>CustGender</th>\n",
       "      <th>CustAccountBalance</th>\n",
       "      <th>TransactionAmount (INR)</th>\n",
       "      <th>Age</th>\n",
       "    </tr>\n",
       "  </thead>\n",
       "  <tbody>\n",
       "    <tr>\n",
       "      <th>0</th>\n",
       "      <td>1.0</td>\n",
       "      <td>17819.05</td>\n",
       "      <td>25.0</td>\n",
       "      <td>31.0</td>\n",
       "    </tr>\n",
       "    <tr>\n",
       "      <th>1</th>\n",
       "      <td>0.0</td>\n",
       "      <td>2270.69</td>\n",
       "      <td>27999.0</td>\n",
       "      <td>68.0</td>\n",
       "    </tr>\n",
       "    <tr>\n",
       "      <th>2</th>\n",
       "      <td>1.0</td>\n",
       "      <td>17874.44</td>\n",
       "      <td>459.0</td>\n",
       "      <td>29.0</td>\n",
       "    </tr>\n",
       "    <tr>\n",
       "      <th>3</th>\n",
       "      <td>1.0</td>\n",
       "      <td>866503.21</td>\n",
       "      <td>2060.0</td>\n",
       "      <td>52.0</td>\n",
       "    </tr>\n",
       "    <tr>\n",
       "      <th>4</th>\n",
       "      <td>1.0</td>\n",
       "      <td>6714.43</td>\n",
       "      <td>1762.5</td>\n",
       "      <td>37.0</td>\n",
       "    </tr>\n",
       "  </tbody>\n",
       "</table>\n",
       "</div>"
      ],
      "text/plain": [
       "   CustGender  CustAccountBalance  TransactionAmount (INR)   Age\n",
       "0         1.0            17819.05                     25.0  31.0\n",
       "1         0.0             2270.69                  27999.0  68.0\n",
       "2         1.0            17874.44                    459.0  29.0\n",
       "3         1.0           866503.21                   2060.0  52.0\n",
       "4         1.0             6714.43                   1762.5  37.0"
      ]
     },
     "execution_count": 14,
     "metadata": {},
     "output_type": "execute_result"
    }
   ],
   "source": [
    "features.head()"
   ]
  },
  {
   "cell_type": "code",
   "execution_count": 15,
   "metadata": {},
   "outputs": [
    {
     "data": {
      "text/html": [
       "<div>\n",
       "<style scoped>\n",
       "    .dataframe tbody tr th:only-of-type {\n",
       "        vertical-align: middle;\n",
       "    }\n",
       "\n",
       "    .dataframe tbody tr th {\n",
       "        vertical-align: top;\n",
       "    }\n",
       "\n",
       "    .dataframe thead th {\n",
       "        text-align: right;\n",
       "    }\n",
       "</style>\n",
       "<table border=\"1\" class=\"dataframe\">\n",
       "  <thead>\n",
       "    <tr style=\"text-align: right;\">\n",
       "      <th></th>\n",
       "      <th>CustGender</th>\n",
       "      <th>CustAccountBalance</th>\n",
       "      <th>TransactionAmount (INR)</th>\n",
       "      <th>Age</th>\n",
       "    </tr>\n",
       "  </thead>\n",
       "  <tbody>\n",
       "    <tr>\n",
       "      <th>count</th>\n",
       "      <td>1.041764e+06</td>\n",
       "      <td>1.041765e+06</td>\n",
       "      <td>1.041765e+06</td>\n",
       "      <td>985473.000000</td>\n",
       "    </tr>\n",
       "    <tr>\n",
       "      <th>mean</th>\n",
       "      <td>2.694142e-01</td>\n",
       "      <td>1.149952e+05</td>\n",
       "      <td>1.566102e+03</td>\n",
       "      <td>40.025744</td>\n",
       "    </tr>\n",
       "    <tr>\n",
       "      <th>std</th>\n",
       "      <td>4.436557e-01</td>\n",
       "      <td>8.467011e+05</td>\n",
       "      <td>6.561101e+03</td>\n",
       "      <td>8.749705</td>\n",
       "    </tr>\n",
       "    <tr>\n",
       "      <th>min</th>\n",
       "      <td>0.000000e+00</td>\n",
       "      <td>0.000000e+00</td>\n",
       "      <td>0.000000e+00</td>\n",
       "      <td>0.000000</td>\n",
       "    </tr>\n",
       "    <tr>\n",
       "      <th>25%</th>\n",
       "      <td>0.000000e+00</td>\n",
       "      <td>4.726860e+03</td>\n",
       "      <td>1.600000e+02</td>\n",
       "      <td>34.000000</td>\n",
       "    </tr>\n",
       "    <tr>\n",
       "      <th>50%</th>\n",
       "      <td>0.000000e+00</td>\n",
       "      <td>1.676953e+04</td>\n",
       "      <td>4.575000e+02</td>\n",
       "      <td>38.000000</td>\n",
       "    </tr>\n",
       "    <tr>\n",
       "      <th>75%</th>\n",
       "      <td>1.000000e+00</td>\n",
       "      <td>5.743646e+04</td>\n",
       "      <td>1.200000e+03</td>\n",
       "      <td>43.000000</td>\n",
       "    </tr>\n",
       "    <tr>\n",
       "      <th>max</th>\n",
       "      <td>1.000000e+00</td>\n",
       "      <td>1.150355e+08</td>\n",
       "      <td>1.560035e+06</td>\n",
       "      <td>99.000000</td>\n",
       "    </tr>\n",
       "  </tbody>\n",
       "</table>\n",
       "</div>"
      ],
      "text/plain": [
       "         CustGender  CustAccountBalance  TransactionAmount (INR)  \\\n",
       "count  1.041764e+06        1.041765e+06             1.041765e+06   \n",
       "mean   2.694142e-01        1.149952e+05             1.566102e+03   \n",
       "std    4.436557e-01        8.467011e+05             6.561101e+03   \n",
       "min    0.000000e+00        0.000000e+00             0.000000e+00   \n",
       "25%    0.000000e+00        4.726860e+03             1.600000e+02   \n",
       "50%    0.000000e+00        1.676953e+04             4.575000e+02   \n",
       "75%    1.000000e+00        5.743646e+04             1.200000e+03   \n",
       "max    1.000000e+00        1.150355e+08             1.560035e+06   \n",
       "\n",
       "                 Age  \n",
       "count  985473.000000  \n",
       "mean       40.025744  \n",
       "std         8.749705  \n",
       "min         0.000000  \n",
       "25%        34.000000  \n",
       "50%        38.000000  \n",
       "75%        43.000000  \n",
       "max        99.000000  "
      ]
     },
     "execution_count": 15,
     "metadata": {},
     "output_type": "execute_result"
    }
   ],
   "source": [
    "features.describe()"
   ]
  },
  {
   "cell_type": "markdown",
   "metadata": {},
   "source": [
    "### **Verificar si las clases están balanceadas**"
   ]
  },
  {
   "cell_type": "code",
   "execution_count": 16,
   "metadata": {},
   "outputs": [
    {
     "data": {
      "text/plain": [
       "CustGender\n",
       "0.0    761098\n",
       "1.0    280666\n",
       "Name: count, dtype: int64"
      ]
     },
     "execution_count": 16,
     "metadata": {},
     "output_type": "execute_result"
    }
   ],
   "source": [
    "features[\"CustGender\"].value_counts()\n"
   ]
  },
  {
   "cell_type": "code",
   "execution_count": 17,
   "metadata": {},
   "outputs": [
    {
     "data": {
      "text/plain": [
       "CustGender\n",
       "0.0    280666\n",
       "1.0    280666\n",
       "Name: count, dtype: int64"
      ]
     },
     "execution_count": 17,
     "metadata": {},
     "output_type": "execute_result"
    }
   ],
   "source": [
    "\n",
    "df_majority = features[features[\"CustGender\"] == 0]  # Hombres (clase mayoritaria)\n",
    "df_minority = features[features[\"CustGender\"] == 1]  # Mujeres (clase minoritaria)\n",
    "\n",
    "# Seleccionar una muestra de la clase mayoritaria con el mismo tamaño que la minoritaria\n",
    "df_majority_sample = df_majority.sample(n=len(df_minority), random_state=13)\n",
    "\n",
    "# Combinar ambas clases \n",
    "df_balanced = pd.concat([df_majority_sample, df_minority])\n",
    "\n",
    "df_balanced[\"CustGender\"].value_counts()"
   ]
  },
  {
   "cell_type": "markdown",
   "metadata": {},
   "source": [
    "### **Escalar los datos**\n"
   ]
  },
  {
   "cell_type": "code",
   "execution_count": 18,
   "metadata": {},
   "outputs": [
    {
     "data": {
      "text/html": [
       "<div>\n",
       "<style scoped>\n",
       "    .dataframe tbody tr th:only-of-type {\n",
       "        vertical-align: middle;\n",
       "    }\n",
       "\n",
       "    .dataframe tbody tr th {\n",
       "        vertical-align: top;\n",
       "    }\n",
       "\n",
       "    .dataframe thead th {\n",
       "        text-align: right;\n",
       "    }\n",
       "</style>\n",
       "<table border=\"1\" class=\"dataframe\">\n",
       "  <thead>\n",
       "    <tr style=\"text-align: right;\">\n",
       "      <th></th>\n",
       "      <th>CustGender</th>\n",
       "      <th>CustAccountBalance</th>\n",
       "      <th>TransactionAmount (INR)</th>\n",
       "      <th>Age</th>\n",
       "    </tr>\n",
       "  </thead>\n",
       "  <tbody>\n",
       "    <tr>\n",
       "      <th>383029</th>\n",
       "      <td>0.0</td>\n",
       "      <td>-0.134647</td>\n",
       "      <td>-0.092312</td>\n",
       "      <td>1.945876</td>\n",
       "    </tr>\n",
       "    <tr>\n",
       "      <th>128188</th>\n",
       "      <td>0.0</td>\n",
       "      <td>-0.106308</td>\n",
       "      <td>-0.219063</td>\n",
       "      <td>-0.665381</td>\n",
       "    </tr>\n",
       "    <tr>\n",
       "      <th>149229</th>\n",
       "      <td>0.0</td>\n",
       "      <td>-0.126104</td>\n",
       "      <td>-0.231627</td>\n",
       "      <td>-0.097716</td>\n",
       "    </tr>\n",
       "    <tr>\n",
       "      <th>657048</th>\n",
       "      <td>0.0</td>\n",
       "      <td>-0.128627</td>\n",
       "      <td>-0.204273</td>\n",
       "      <td>-0.778914</td>\n",
       "    </tr>\n",
       "    <tr>\n",
       "      <th>634895</th>\n",
       "      <td>0.0</td>\n",
       "      <td>-0.134548</td>\n",
       "      <td>-0.213497</td>\n",
       "      <td>-1.005979</td>\n",
       "    </tr>\n",
       "  </tbody>\n",
       "</table>\n",
       "</div>"
      ],
      "text/plain": [
       "        CustGender  CustAccountBalance  TransactionAmount (INR)       Age\n",
       "383029         0.0           -0.134647                -0.092312  1.945876\n",
       "128188         0.0           -0.106308                -0.219063 -0.665381\n",
       "149229         0.0           -0.126104                -0.231627 -0.097716\n",
       "657048         0.0           -0.128627                -0.204273 -0.778914\n",
       "634895         0.0           -0.134548                -0.213497 -1.005979"
      ]
     },
     "execution_count": 18,
     "metadata": {},
     "output_type": "execute_result"
    }
   ],
   "source": [
    "numeric_features = ['CustAccountBalance', 'TransactionAmount (INR)', 'Age']\n",
    "scaler = StandardScaler()\n",
    "\n",
    "df_balanced_scaled = df_balanced.copy()\n",
    "df_balanced_scaled[numeric_features] = scaler.fit_transform(df_balanced_scaled[numeric_features])\n",
    "\n",
    "df_balanced_scaled.head()"
   ]
  },
  {
   "cell_type": "markdown",
   "metadata": {},
   "source": [
    "#### Task 2.1.1 - K-Means"
   ]
  },
  {
   "cell_type": "markdown",
   "metadata": {},
   "source": [
    "### Modelo sin librerías"
   ]
  },
  {
   "cell_type": "code",
   "execution_count": 24,
   "metadata": {},
   "outputs": [
    {
     "data": {
      "image/png": "[encoded data removed]",
      "text/plain": [
       "<Figure size 720x432 with 1 Axes>"
      ]
     },
     "metadata": {
      "needs_background": "light"
     },
     "output_type": "display_data"
    }
   ],
   "source": [
    "import numpy as np\n",
    "\n",
    "def kmeans_from_scratch(X, k, max_iter=100):\n",
    "\n",
    "    # Inicializar centroides de manera aleatoria\n",
    "    n_samples, n_features = X.shape\n",
    "    indices = np.random.permutation(n_samples)[:k]\n",
    "    centroids = X[indices]\n",
    "    \n",
    "    for _ in range(max_iter):\n",
    "        # Calcular las distancias eucladianas entre los puntos y los centroides\n",
    "        distances = np.linalg.norm(X[:, np.newaxis] - centroids, axis=2)\n",
    "        \n",
    "        # Asignar puntos a los centroides correspondientes más cercanos\n",
    "        labels = np.argmin(distances, axis=1)\n",
    "        \n",
    "        new_centroids = []\n",
    "        for i in range(k):\n",
    "            if np.any(labels == i):  \n",
    "                new_centroids.append(X[labels == i].mean(axis=0))\n",
    "            else:  # Si el cluster está vacío, reasignar nuevo centroide\n",
    "                new_centroids.append(X[np.random.choice(X.shape[0])])\n",
    "        \n",
    "        new_centroids = np.array(new_centroids)\n",
    "\n",
    "        # Revisar que hayu convergencia\n",
    "        if np.allclose(centroids, new_centroids):\n",
    "            break\n",
    "            \n",
    "        centroids = new_centroids\n",
    "    \n",
    "    # Calcular errores\n",
    "    sse = np.sum((X - centroids[labels])**2)\n",
    "        \n",
    "    return centroids, labels, sse\n",
    "\n",
    "# Calcular el k óptimo utilizando el método del codo\n",
    "def elbow_method(X, k_max=10):\n",
    "    sse_values = []\n",
    "    \n",
    "    for k in range(1, k_max + 1):\n",
    "        _, _, sse = kmeans_from_scratch(X, k)\n",
    "        sse_values.append(sse)\n",
    "    \n",
    "    return sse_values\n",
    "\n",
    "def plot_elbow_method(sse_values):\n",
    "    plt.figure(figsize=(10, 6))\n",
    "    plt.plot(range(1, len(sse_values) + 1), sse_values, 'bo-')\n",
    "    plt.xlabel('Número de Clusters (k)')\n",
    "    plt.ylabel('SSE')\n",
    "    plt.title('Método del codo')\n",
    "    plt.grid(True)\n",
    "    plt.show()\n",
    "\n",
    "# Aplicar el método del codo a dos features seleccionados\n",
    "X_selected = df_balanced_scaled[['CustAccountBalance', 'TransactionAmount (INR)']].values\n",
    "sse_values = elbow_method(X_selected, k_max=10)\n",
    "\n",
    "plot_elbow_method(sse_values)\n"
   ]
  },
  {
   "cell_type": "code",
   "execution_count": null,
   "metadata": {},
   "outputs": [
    {
     "data": {
      "image/png": "[encoded data removed]",
      "text/plain": [
       "<Figure size 720x432 with 1 Axes>"
      ]
     },
     "metadata": {
      "needs_background": "light"
     },
     "output_type": "display_data"
    }
   ],
   "source": [
    "from sklearn.metrics import silhouette_score\n",
    "\n",
    "# Definir el número de clusters según el método del codo\n",
    "k_optimo = 3  \n",
    "\n",
    "centroids, labels, _ = kmeans_from_scratch(X_selected, k_optimo)\n",
    "\n",
    "colors = ['purple', 'green', 'orange']\n",
    "\n",
    "plt.figure(figsize=(10, 6))\n",
    "\n",
    "for cluster_id in range(k_optimo):\n",
    "    plt.scatter(\n",
    "        X_selected[labels == cluster_id, 0],\n",
    "        X_selected[labels == cluster_id, 1],\n",
    "        c=colors[cluster_id], \n",
    "        label=f'Cluster {cluster_id + 1}', \n",
    "        alpha=0.6, \n",
    "    )\n",
    "\n",
    "# Graficar los centroides\n",
    "plt.scatter(\n",
    "    centroids[:, 0], centroids[:, 1],\n",
    "    c='blue', marker='X', s=200, label=\"Centroides\"  \n",
    ")\n",
    "\n",
    "# Etiquetas y título\n",
    "plt.xlabel('CustAccountBalance')\n",
    "plt.ylabel('TransactionAmount (INR)')\n",
    "plt.title(f'Visualización de Clusters con K-Means (k={k_optimo})')\n",
    "plt.legend()\n",
    "plt.grid(True)\n",
    "\n",
    "# Mostrar la gráfica\n",
    "plt.show()\n",
    "\n",
    "silhouette_avg = silhouette_score(X_selected, labels)\n",
    "print(f\"Silhouette Score: {silhouette_avg:.4f}\")\n"
   ]
  },
  {
   "cell_type": "markdown",
   "metadata": {},
   "source": [
    "##### **K-Means | Uso de librerías**"
   ]
  },
  {
   "cell_type": "code",
   "execution_count": null,
   "metadata": {},
   "outputs": [
    {
     "data": {
      "image/png": "[encoded data removed]",
      "text/plain": [
       "<Figure size 720x432 with 1 Axes>"
      ]
     },
     "metadata": {
      "needs_background": "light"
     },
     "output_type": "display_data"
    }
   ],
   "source": [
    "from sklearn.cluster import KMeans\n",
    "\n",
    "# Definir el rango de clusters a probar (k=1 a k=10)\n",
    "k_range = range(1, 11)\n",
    "sse_values_sklearn = []\n",
    "\n",
    "# Calcular SSE para cada valor de k\n",
    "for k in k_range:\n",
    "    kmeans = KMeans(n_clusters=k, random_state=42, n_init=10)\n",
    "    kmeans.fit(X_selected)\n",
    "    sse_values_sklearn.append(kmeans.inertia_)  \n",
    "\n",
    "plt.figure(figsize=(10, 6))\n",
    "plt.plot(k_range, sse_values_sklearn, 'bo-')\n",
    "plt.xlabel('Número de clusters (k)')\n",
    "plt.ylabel('Suma de Errores Cuadráticos (SSE)')\n",
    "plt.title('Método del Codo (Scikit-Learn)')\n",
    "plt.grid(True)\n",
    "plt.show()\n"
   ]
  },
  {
   "cell_type": "markdown",
   "metadata": {},
   "source": [
    "El número de clusters óptimo según la librería de Scikit Learn es de k = 3"
   ]
  },
  {
   "cell_type": "code",
   "execution_count": null,
   "metadata": {},
   "outputs": [
    {
     "data": {
      "image/png": "[encoded data removed]",
      "text/plain": [
       "<Figure size 720x432 with 1 Axes>"
      ]
     },
     "metadata": {
      "needs_background": "light"
     },
     "output_type": "display_data"
    }
   ],
   "source": [
    "\n",
    "# Definir el número de clusters basado en el método del codo\n",
    "k_optimo = 3 \n",
    "\n",
    "kmeans_sklearn = KMeans(n_clusters=k_optimo, random_state=13, n_init=10)\n",
    "labels_sklearn = kmeans_sklearn.fit_predict(X_selected)\n",
    "\n",
    "centroids_sklearn = kmeans_sklearn.cluster_centers_\n",
    "\n",
    "# Colores para los clusters\n",
    "colors = ['purple', 'green', 'orange']  \n",
    "\n",
    "# Crear la figura\n",
    "plt.figure(figsize=(10, 6))\n",
    "\n",
    "# Graficar cada cluster con su color y etiqueta\n",
    "for cluster_id in range(k_optimo):\n",
    "    plt.scatter(\n",
    "        X_selected[labels_sklearn == cluster_id, 0],\n",
    "        X_selected[labels_sklearn == cluster_id, 1],\n",
    "        color = colors[cluster_id],\n",
    "        label=f'Cluster {cluster_id + 1}', \n",
    "        alpha=0.6\n",
    "    )\n",
    "\n",
    "# Graficar centroides\n",
    "plt.scatter(\n",
    "    centroids_sklearn[:, 0],\n",
    "    centroids_sklearn[:, 1],\n",
    "    c='blue', marker='X', s=200, label=\"Centroides\"\n",
    ")\n",
    "\n",
    "# Etiquetas y título\n",
    "plt.xlabel('CustAccountBalance')\n",
    "plt.ylabel('TransactionAmount (INR)')\n",
    "plt.title(f'Clusters con K-Means (Scikit-Learn) - k={k_optimo}')\n",
    "plt.legend()\n",
    "plt.grid(True)\n",
    "\n",
    "# Calcular Silhouette Score \n",
    "silhouette_sklearn = silhouette_score(X_selected, labels_sklearn)\n",
    "print(silhouette_sklearn)\n"
   ]
  },
  {
   "cell_type": "markdown",
   "metadata": {},
   "source": [
    "### Task 2.2 - Mixture Modelos y Segmentación de Clientes de Banco"
   ]
  },
  {
   "cell_type": "markdown",
   "metadata": {},
   "source": [
    "#### Task 2.2.1 - Mixture Models"
   ]
  },
  {
   "cell_type": "markdown",
   "metadata": {},
   "source": [
    "##### **Gaussian Mixture | Uso de librerías**"
   ]
  },
  {
   "cell_type": "code",
   "execution_count": null,
   "metadata": {},
   "outputs": [],
   "source": [
    "from sklearn.mixture import GaussianMixture\n",
    "from sklearn.impute import SimpleImputer\n",
    "\n",
    "# Imputar los valores faltantes\n",
    "imputer = SimpleImputer(strategy='mean')\n",
    "X_imputed = imputer.fit_transform(X)\n",
    "\n",
    "# Definir el modelo de Gaussian Mixture\n",
    "gmm = GaussianMixture(n_components=5, random_state=42)\n",
    "\n",
    "# Ajustar el modelo a los datos\n",
    "gmm.fit(X_imputed)\n",
    "\n",
    "# Predecir las etiquetas de los clusters\n",
    "labels = gmm.predict(X_imputed)\n",
    "\n",
    "# Agregar las etiquetas al DataFrame original\n",
    "data['Cluster'] = labels\n",
    "\n",
    "# Visualizar la distribución de los clusters\n",
    "plt.figure(figsize=(10, 6))\n",
    "plt.scatter(data['CustAccountBalance'], data['TransactionAmount (INR)'], c=labels, cmap='viridis')\n",
    "plt.xlabel('CustAccountBalance')\n",
    "plt.ylabel('TransactionAmount (INR)')\n",
    "plt.title('Clusters de Clientes usando Gaussian Mixture Model')\n",
    "plt.colorbar(label='Cluster')\n",
    "plt.show()"
   ]
  }
 ],
 "metadata": {
  "kernelspec": {
   "display_name": "Python 3",
   "language": "python",
   "name": "python3"
  },
  "language_info": {
   "codemirror_mode": {
    "name": "ipython",
    "version": 3
   },
   "file_extension": ".py",
   "mimetype": "text/x-python",
   "name": "python",
   "nbconvert_exporter": "python",
   "pygments_lexer": "ipython3",
   "version": "3.10.11"
  }
 },
 "nbformat": 4,
 "nbformat_minor": 2
}
